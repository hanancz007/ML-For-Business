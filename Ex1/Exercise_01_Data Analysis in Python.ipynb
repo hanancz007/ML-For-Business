{
 "cells": [
  {
   "cell_type": "markdown",
   "metadata": {},
   "source": [
    "<img src=\"logo.png\" style=\"width: 80px;\"/>\n",
    "\n",
    "## Exercise 1- Data Analysis in Python - By Omer Dembinsky\n",
    "#### <font color='Blue'> Based on Mobile Strategy Games Dataset :\n",
    ">_https://www.kaggle.com/tristan581/17k-apple-app-store-strategy-games_\n",
    "    \n",
    "- <font color ='grey' > (Markdown cheet sheet: https://medium.com/@ingeh/markdown-for-jupyter-notebooks-cheatsheet-386c05aeebed)"
   ]
  },
  {
   "cell_type": "markdown",
   "metadata": {},
   "source": [
    "**Import the modules needed for the exercise**"
   ]
  },
  {
   "cell_type": "code",
   "execution_count": 77,
   "metadata": {},
   "outputs": [],
   "source": [
    "import pandas as pd  # data manipulation and analysis\n",
    "from matplotlib import pyplot as plt   #visualizations"
   ]
  },
  {
   "cell_type": "markdown",
   "metadata": {},
   "source": [
    "**Working with Dataframes - Pandas**"
   ]
  },
  {
   "cell_type": "code",
   "execution_count": 5,
   "metadata": {},
   "outputs": [],
   "source": [
    "#create a dataframe by reading the csv\n",
    "df = pd.read_csv(\"appstore_games.csv\")  # if the file is not in the same folder as the python file - need to specify the path\n",
    "df_new = df  # now we have two dataframes that are the same"
   ]
  },
  {
   "cell_type": "code",
   "execution_count": 6,
   "metadata": {},
   "outputs": [
    {
     "data": {
      "text/html": [
       "<div>\n",
       "<style scoped>\n",
       "    .dataframe tbody tr th:only-of-type {\n",
       "        vertical-align: middle;\n",
       "    }\n",
       "\n",
       "    .dataframe tbody tr th {\n",
       "        vertical-align: top;\n",
       "    }\n",
       "\n",
       "    .dataframe thead th {\n",
       "        text-align: right;\n",
       "    }\n",
       "</style>\n",
       "<table border=\"1\" class=\"dataframe\">\n",
       "  <thead>\n",
       "    <tr style=\"text-align: right;\">\n",
       "      <th></th>\n",
       "      <th>URL</th>\n",
       "      <th>ID</th>\n",
       "      <th>Name</th>\n",
       "      <th>Subtitle</th>\n",
       "      <th>Icon URL</th>\n",
       "      <th>Average User Rating</th>\n",
       "      <th>User Rating Count</th>\n",
       "      <th>Price</th>\n",
       "      <th>In-app Purchases</th>\n",
       "      <th>Description</th>\n",
       "      <th>Developer</th>\n",
       "      <th>Age Rating</th>\n",
       "      <th>Languages</th>\n",
       "      <th>Size</th>\n",
       "      <th>Primary Genre</th>\n",
       "      <th>Genres</th>\n",
       "      <th>Original Release Date</th>\n",
       "      <th>Current Version Release Date</th>\n",
       "    </tr>\n",
       "  </thead>\n",
       "  <tbody>\n",
       "    <tr>\n",
       "      <th>0</th>\n",
       "      <td>https://apps.apple.com/us/app/sudoku/id284921427</td>\n",
       "      <td>284921427</td>\n",
       "      <td>Sudoku</td>\n",
       "      <td>NaN</td>\n",
       "      <td>https://is2-ssl.mzstatic.com/image/thumb/Purpl...</td>\n",
       "      <td>4.0</td>\n",
       "      <td>3553.0</td>\n",
       "      <td>2.99</td>\n",
       "      <td>NaN</td>\n",
       "      <td>Join over 21,000,000 of our fans and download ...</td>\n",
       "      <td>Mighty Mighty Good Games</td>\n",
       "      <td>4+</td>\n",
       "      <td>DA, NL, EN, FI, FR, DE, IT, JA, KO, NB, PL, PT...</td>\n",
       "      <td>15853568.0</td>\n",
       "      <td>Games</td>\n",
       "      <td>Games, Strategy, Puzzle</td>\n",
       "      <td>11/07/2008</td>\n",
       "      <td>30/05/2017</td>\n",
       "    </tr>\n",
       "    <tr>\n",
       "      <th>1</th>\n",
       "      <td>https://apps.apple.com/us/app/reversi/id284926400</td>\n",
       "      <td>284926400</td>\n",
       "      <td>Reversi</td>\n",
       "      <td>NaN</td>\n",
       "      <td>https://is4-ssl.mzstatic.com/image/thumb/Purpl...</td>\n",
       "      <td>3.5</td>\n",
       "      <td>284.0</td>\n",
       "      <td>1.99</td>\n",
       "      <td>NaN</td>\n",
       "      <td>The classic game of Reversi, also known as Oth...</td>\n",
       "      <td>Kiss The Machine</td>\n",
       "      <td>4+</td>\n",
       "      <td>EN</td>\n",
       "      <td>12328960.0</td>\n",
       "      <td>Games</td>\n",
       "      <td>Games, Strategy, Board</td>\n",
       "      <td>11/07/2008</td>\n",
       "      <td>17/05/2018</td>\n",
       "    </tr>\n",
       "  </tbody>\n",
       "</table>\n",
       "</div>"
      ],
      "text/plain": [
       "                                                 URL         ID     Name  \\\n",
       "0   https://apps.apple.com/us/app/sudoku/id284921427  284921427   Sudoku   \n",
       "1  https://apps.apple.com/us/app/reversi/id284926400  284926400  Reversi   \n",
       "\n",
       "  Subtitle                                           Icon URL  \\\n",
       "0      NaN  https://is2-ssl.mzstatic.com/image/thumb/Purpl...   \n",
       "1      NaN  https://is4-ssl.mzstatic.com/image/thumb/Purpl...   \n",
       "\n",
       "   Average User Rating  User Rating Count  Price In-app Purchases  \\\n",
       "0                  4.0             3553.0   2.99              NaN   \n",
       "1                  3.5              284.0   1.99              NaN   \n",
       "\n",
       "                                         Description  \\\n",
       "0  Join over 21,000,000 of our fans and download ...   \n",
       "1  The classic game of Reversi, also known as Oth...   \n",
       "\n",
       "                  Developer Age Rating  \\\n",
       "0  Mighty Mighty Good Games         4+   \n",
       "1          Kiss The Machine         4+   \n",
       "\n",
       "                                           Languages        Size  \\\n",
       "0  DA, NL, EN, FI, FR, DE, IT, JA, KO, NB, PL, PT...  15853568.0   \n",
       "1                                                 EN  12328960.0   \n",
       "\n",
       "  Primary Genre                   Genres Original Release Date  \\\n",
       "0         Games  Games, Strategy, Puzzle            11/07/2008   \n",
       "1         Games   Games, Strategy, Board            11/07/2008   \n",
       "\n",
       "  Current Version Release Date  \n",
       "0                   30/05/2017  \n",
       "1                   17/05/2018  "
      ]
     },
     "execution_count": 6,
     "metadata": {},
     "output_type": "execute_result"
    }
   ],
   "source": [
    "#show top rows\n",
    "df.head(2)"
   ]
  },
  {
   "cell_type": "code",
   "execution_count": 7,
   "metadata": {},
   "outputs": [
    {
     "data": {
      "text/html": [
       "<div>\n",
       "<style scoped>\n",
       "    .dataframe tbody tr th:only-of-type {\n",
       "        vertical-align: middle;\n",
       "    }\n",
       "\n",
       "    .dataframe tbody tr th {\n",
       "        vertical-align: top;\n",
       "    }\n",
       "\n",
       "    .dataframe thead th {\n",
       "        text-align: right;\n",
       "    }\n",
       "</style>\n",
       "<table border=\"1\" class=\"dataframe\">\n",
       "  <thead>\n",
       "    <tr style=\"text-align: right;\">\n",
       "      <th></th>\n",
       "      <th>URL</th>\n",
       "      <th>ID</th>\n",
       "      <th>Name</th>\n",
       "      <th>Subtitle</th>\n",
       "      <th>Icon URL</th>\n",
       "      <th>Average User Rating</th>\n",
       "      <th>User Rating Count</th>\n",
       "      <th>Price</th>\n",
       "      <th>In-app Purchases</th>\n",
       "      <th>Description</th>\n",
       "      <th>Developer</th>\n",
       "      <th>Age Rating</th>\n",
       "      <th>Languages</th>\n",
       "      <th>Size</th>\n",
       "      <th>Primary Genre</th>\n",
       "      <th>Genres</th>\n",
       "      <th>Original Release Date</th>\n",
       "      <th>Current Version Release Date</th>\n",
       "    </tr>\n",
       "  </thead>\n",
       "  <tbody>\n",
       "    <tr>\n",
       "      <th>10930</th>\n",
       "      <td>https://apps.apple.com/us/app/lucky-color-luck...</td>\n",
       "      <td>1202080253</td>\n",
       "      <td>Lucky Color Lucky Block</td>\n",
       "      <td>NaN</td>\n",
       "      <td>https://is3-ssl.mzstatic.com/image/thumb/Purpl...</td>\n",
       "      <td>5.0</td>\n",
       "      <td>23.0</td>\n",
       "      <td>0.00</td>\n",
       "      <td>NaN</td>\n",
       "      <td>Lucky Color Lucky Block is a fast paced color ...</td>\n",
       "      <td>Truong Nguyen</td>\n",
       "      <td>4+</td>\n",
       "      <td>EN</td>\n",
       "      <td>4.994662e+07</td>\n",
       "      <td>Games</td>\n",
       "      <td>Games, Strategy, Puzzle, Entertainment</td>\n",
       "      <td>3/02/2017</td>\n",
       "      <td>3/02/2017</td>\n",
       "    </tr>\n",
       "    <tr>\n",
       "      <th>1940</th>\n",
       "      <td>https://apps.apple.com/us/app/kong-jungle-crus...</td>\n",
       "      <td>599732714</td>\n",
       "      <td>Kong Jungle Crush Fruit Salad Candy Smasher HD</td>\n",
       "      <td>NaN</td>\n",
       "      <td>https://is3-ssl.mzstatic.com/image/thumb/Purpl...</td>\n",
       "      <td>3.5</td>\n",
       "      <td>13.0</td>\n",
       "      <td>0.00</td>\n",
       "      <td>0.99</td>\n",
       "      <td>Kong is King of the jungle.  Help Kong crush t...</td>\n",
       "      <td>DartFrog llc</td>\n",
       "      <td>4+</td>\n",
       "      <td>EN</td>\n",
       "      <td>1.713203e+07</td>\n",
       "      <td>Games</td>\n",
       "      <td>Games, Music, Strategy</td>\n",
       "      <td>11/03/2013</td>\n",
       "      <td>11/03/2013</td>\n",
       "    </tr>\n",
       "    <tr>\n",
       "      <th>4116</th>\n",
       "      <td>https://apps.apple.com/us/app/toilet-treasures...</td>\n",
       "      <td>892388552</td>\n",
       "      <td>Toilet Treasures - Time for a Bathroom Adventu...</td>\n",
       "      <td>NaN</td>\n",
       "      <td>https://is5-ssl.mzstatic.com/image/thumb/Purpl...</td>\n",
       "      <td>4.0</td>\n",
       "      <td>743.0</td>\n",
       "      <td>0.00</td>\n",
       "      <td>1.99, 0.99, 9.99, 4.99, 2.99</td>\n",
       "      <td>\"You sit on it every day, but do you know what...</td>\n",
       "      <td>Tapps Tecnologia da Informa\\xe7\\xe3o Ltda.</td>\n",
       "      <td>9+</td>\n",
       "      <td>EN</td>\n",
       "      <td>8.698880e+07</td>\n",
       "      <td>Games</td>\n",
       "      <td>Games, Simulation, Strategy, Entertainment</td>\n",
       "      <td>13/07/2014</td>\n",
       "      <td>14/03/2016</td>\n",
       "    </tr>\n",
       "    <tr>\n",
       "      <th>7202</th>\n",
       "      <td>https://apps.apple.com/us/app/double-tap/id105...</td>\n",
       "      <td>1053759325</td>\n",
       "      <td>Double-Tap</td>\n",
       "      <td>NaN</td>\n",
       "      <td>https://is2-ssl.mzstatic.com/image/thumb/Purpl...</td>\n",
       "      <td>NaN</td>\n",
       "      <td>NaN</td>\n",
       "      <td>0.00</td>\n",
       "      <td>0.99, 1.99, 4.99, 6.99, 0.99</td>\n",
       "      <td>Rotate the wheel! Double-tap to avoid the obst...</td>\n",
       "      <td>Eric Rhodes</td>\n",
       "      <td>4+</td>\n",
       "      <td>EN</td>\n",
       "      <td>2.066022e+07</td>\n",
       "      <td>Games</td>\n",
       "      <td>Games, Entertainment, Action, Strategy</td>\n",
       "      <td>5/10/2016</td>\n",
       "      <td>25/10/2016</td>\n",
       "    </tr>\n",
       "    <tr>\n",
       "      <th>12410</th>\n",
       "      <td>https://apps.apple.com/us/app/fight-soldier-sh...</td>\n",
       "      <td>1266624642</td>\n",
       "      <td>Fight Soldier Shooting Game</td>\n",
       "      <td>Strategy Shooting Game</td>\n",
       "      <td>https://is5-ssl.mzstatic.com/image/thumb/Purpl...</td>\n",
       "      <td>NaN</td>\n",
       "      <td>NaN</td>\n",
       "      <td>0.00</td>\n",
       "      <td>NaN</td>\n",
       "      <td>The battle against a rogue army with invasion ...</td>\n",
       "      <td>Syed Saad Arif</td>\n",
       "      <td>12+</td>\n",
       "      <td>EN</td>\n",
       "      <td>2.085405e+09</td>\n",
       "      <td>Games</td>\n",
       "      <td>Games, Strategy, Action</td>\n",
       "      <td>8/11/2017</td>\n",
       "      <td>8/11/2017</td>\n",
       "    </tr>\n",
       "    <tr>\n",
       "      <th>10574</th>\n",
       "      <td>https://apps.apple.com/us/app/slide-puzzle-wor...</td>\n",
       "      <td>1187598009</td>\n",
       "      <td>Slide Puzzle World</td>\n",
       "      <td>NaN</td>\n",
       "      <td>https://is1-ssl.mzstatic.com/image/thumb/Purpl...</td>\n",
       "      <td>NaN</td>\n",
       "      <td>NaN</td>\n",
       "      <td>0.99</td>\n",
       "      <td>NaN</td>\n",
       "      <td>Simple, fun, addictive puzzle game with no ads...</td>\n",
       "      <td>Mateusz Swiech</td>\n",
       "      <td>4+</td>\n",
       "      <td>EN</td>\n",
       "      <td>4.160922e+07</td>\n",
       "      <td>Games</td>\n",
       "      <td>Games, Puzzle, Travel, Strategy</td>\n",
       "      <td>20/12/2016</td>\n",
       "      <td>20/12/2016</td>\n",
       "    </tr>\n",
       "  </tbody>\n",
       "</table>\n",
       "</div>"
      ],
      "text/plain": [
       "                                                     URL          ID  \\\n",
       "10930  https://apps.apple.com/us/app/lucky-color-luck...  1202080253   \n",
       "1940   https://apps.apple.com/us/app/kong-jungle-crus...   599732714   \n",
       "4116   https://apps.apple.com/us/app/toilet-treasures...   892388552   \n",
       "7202   https://apps.apple.com/us/app/double-tap/id105...  1053759325   \n",
       "12410  https://apps.apple.com/us/app/fight-soldier-sh...  1266624642   \n",
       "10574  https://apps.apple.com/us/app/slide-puzzle-wor...  1187598009   \n",
       "\n",
       "                                                    Name  \\\n",
       "10930                            Lucky Color Lucky Block   \n",
       "1940      Kong Jungle Crush Fruit Salad Candy Smasher HD   \n",
       "4116   Toilet Treasures - Time for a Bathroom Adventu...   \n",
       "7202                                          Double-Tap   \n",
       "12410                        Fight Soldier Shooting Game   \n",
       "10574                                 Slide Puzzle World   \n",
       "\n",
       "                     Subtitle  \\\n",
       "10930                     NaN   \n",
       "1940                      NaN   \n",
       "4116                      NaN   \n",
       "7202                      NaN   \n",
       "12410  Strategy Shooting Game   \n",
       "10574                     NaN   \n",
       "\n",
       "                                                Icon URL  Average User Rating  \\\n",
       "10930  https://is3-ssl.mzstatic.com/image/thumb/Purpl...                  5.0   \n",
       "1940   https://is3-ssl.mzstatic.com/image/thumb/Purpl...                  3.5   \n",
       "4116   https://is5-ssl.mzstatic.com/image/thumb/Purpl...                  4.0   \n",
       "7202   https://is2-ssl.mzstatic.com/image/thumb/Purpl...                  NaN   \n",
       "12410  https://is5-ssl.mzstatic.com/image/thumb/Purpl...                  NaN   \n",
       "10574  https://is1-ssl.mzstatic.com/image/thumb/Purpl...                  NaN   \n",
       "\n",
       "       User Rating Count  Price              In-app Purchases  \\\n",
       "10930               23.0   0.00                           NaN   \n",
       "1940                13.0   0.00                          0.99   \n",
       "4116               743.0   0.00  1.99, 0.99, 9.99, 4.99, 2.99   \n",
       "7202                 NaN   0.00  0.99, 1.99, 4.99, 6.99, 0.99   \n",
       "12410                NaN   0.00                           NaN   \n",
       "10574                NaN   0.99                           NaN   \n",
       "\n",
       "                                             Description  \\\n",
       "10930  Lucky Color Lucky Block is a fast paced color ...   \n",
       "1940   Kong is King of the jungle.  Help Kong crush t...   \n",
       "4116   \"You sit on it every day, but do you know what...   \n",
       "7202   Rotate the wheel! Double-tap to avoid the obst...   \n",
       "12410  The battle against a rogue army with invasion ...   \n",
       "10574  Simple, fun, addictive puzzle game with no ads...   \n",
       "\n",
       "                                        Developer Age Rating Languages  \\\n",
       "10930                               Truong Nguyen         4+        EN   \n",
       "1940                                 DartFrog llc         4+        EN   \n",
       "4116   Tapps Tecnologia da Informa\\xe7\\xe3o Ltda.         9+        EN   \n",
       "7202                                  Eric Rhodes         4+        EN   \n",
       "12410                              Syed Saad Arif        12+        EN   \n",
       "10574                              Mateusz Swiech         4+        EN   \n",
       "\n",
       "               Size Primary Genre                                      Genres  \\\n",
       "10930  4.994662e+07         Games      Games, Strategy, Puzzle, Entertainment   \n",
       "1940   1.713203e+07         Games                      Games, Music, Strategy   \n",
       "4116   8.698880e+07         Games  Games, Simulation, Strategy, Entertainment   \n",
       "7202   2.066022e+07         Games      Games, Entertainment, Action, Strategy   \n",
       "12410  2.085405e+09         Games                     Games, Strategy, Action   \n",
       "10574  4.160922e+07         Games             Games, Puzzle, Travel, Strategy   \n",
       "\n",
       "      Original Release Date Current Version Release Date  \n",
       "10930             3/02/2017                    3/02/2017  \n",
       "1940             11/03/2013                   11/03/2013  \n",
       "4116             13/07/2014                   14/03/2016  \n",
       "7202              5/10/2016                   25/10/2016  \n",
       "12410             8/11/2017                    8/11/2017  \n",
       "10574            20/12/2016                   20/12/2016  "
      ]
     },
     "execution_count": 7,
     "metadata": {},
     "output_type": "execute_result"
    }
   ],
   "source": [
    "#show random rows\n",
    "df.sample(6)"
   ]
  },
  {
   "cell_type": "code",
   "execution_count": 73,
   "metadata": {},
   "outputs": [
    {
     "data": {
      "text/plain": [
       "Index(['URL', 'ID', 'Name', 'Subtitle', 'Icon URL', 'Average User Rating',\n",
       "       'User Rating Count', 'Price', 'In-app Purchases', 'Description',\n",
       "       'Developer', 'Age Rating', 'Languages', 'Size', 'Primary Genre',\n",
       "       'Genres', 'Original Release Date', 'Current Version Release Date'],\n",
       "      dtype='object')"
      ]
     },
     "execution_count": 73,
     "metadata": {},
     "output_type": "execute_result"
    }
   ],
   "source": [
    "#list of coloums\n",
    "df.columns"
   ]
  },
  {
   "cell_type": "code",
   "execution_count": 9,
   "metadata": {},
   "outputs": [
    {
     "data": {
      "text/plain": [
       "17007"
      ]
     },
     "execution_count": 9,
     "metadata": {},
     "output_type": "execute_result"
    }
   ],
   "source": [
    "#number of rows\n",
    "len(df)"
   ]
  },
  {
   "cell_type": "code",
   "execution_count": 10,
   "metadata": {},
   "outputs": [
    {
     "data": {
      "text/plain": [
       "URL                             False\n",
       "ID                              False\n",
       "Name                            False\n",
       "Subtitle                         True\n",
       "Icon URL                        False\n",
       "Average User Rating              True\n",
       "User Rating Count                True\n",
       "Price                            True\n",
       "In-app Purchases                 True\n",
       "Description                     False\n",
       "Developer                       False\n",
       "Age Rating                      False\n",
       "Languages                        True\n",
       "Size                             True\n",
       "Primary Genre                   False\n",
       "Genres                          False\n",
       "Original Release Date           False\n",
       "Current Version Release Date    False\n",
       "dtype: bool"
      ]
     },
     "execution_count": 10,
     "metadata": {},
     "output_type": "execute_result"
    }
   ],
   "source": [
    "#find which columns have null values\n",
    "df.isnull().any()"
   ]
  },
  {
   "cell_type": "code",
   "execution_count": 11,
   "metadata": {},
   "outputs": [
    {
     "name": "stdout",
     "output_type": "stream",
     "text": [
      "<class 'pandas.core.frame.DataFrame'>\n",
      "RangeIndex: 17007 entries, 0 to 17006\n",
      "Data columns (total 18 columns):\n",
      " #   Column                        Non-Null Count  Dtype  \n",
      "---  ------                        --------------  -----  \n",
      " 0   URL                           17007 non-null  object \n",
      " 1   ID                            17007 non-null  int64  \n",
      " 2   Name                          17007 non-null  object \n",
      " 3   Subtitle                      5261 non-null   object \n",
      " 4   Icon URL                      17007 non-null  object \n",
      " 5   Average User Rating           7561 non-null   float64\n",
      " 6   User Rating Count             7561 non-null   float64\n",
      " 7   Price                         16983 non-null  float64\n",
      " 8   In-app Purchases              7683 non-null   object \n",
      " 9   Description                   17007 non-null  object \n",
      " 10  Developer                     17007 non-null  object \n",
      " 11  Age Rating                    17007 non-null  object \n",
      " 12  Languages                     16947 non-null  object \n",
      " 13  Size                          17006 non-null  float64\n",
      " 14  Primary Genre                 17007 non-null  object \n",
      " 15  Genres                        17007 non-null  object \n",
      " 16  Original Release Date         17007 non-null  object \n",
      " 17  Current Version Release Date  17007 non-null  object \n",
      "dtypes: float64(4), int64(1), object(13)\n",
      "memory usage: 2.3+ MB\n"
     ]
    }
   ],
   "source": [
    "# Info Method shows overview of columns, rows, types and nulls\n",
    "df.info()"
   ]
  },
  {
   "cell_type": "code",
   "execution_count": 88,
   "metadata": {},
   "outputs": [
    {
     "name": "stdout",
     "output_type": "stream",
     "text": [
      "<class 'pandas.core.frame.DataFrame'>\n",
      "RangeIndex: 17007 entries, 0 to 17006\n",
      "Data columns (total 3 columns):\n",
      " #   Column         Non-Null Count  Dtype \n",
      "---  ------         --------------  ----- \n",
      " 0   Name           17007 non-null  object\n",
      " 1   Developer      17007 non-null  object\n",
      " 2   Primary Genre  17007 non-null  object\n",
      "dtypes: object(3)\n",
      "memory usage: 398.7+ KB\n"
     ]
    }
   ],
   "source": [
    "# we can pick only specific columns to create a new dataset\n",
    "df_small = df[[\"Name\",\"Developer\",\"Primary Genre\"]]\n",
    "df_small.info()"
   ]
  },
  {
   "cell_type": "code",
   "execution_count": 13,
   "metadata": {},
   "outputs": [
    {
     "name": "stdout",
     "output_type": "stream",
     "text": [
      "<class 'pandas.core.frame.DataFrame'>\n",
      "Int64Index: 1000 entries, 6527 to 14849\n",
      "Data columns (total 18 columns):\n",
      " #   Column                        Non-Null Count  Dtype  \n",
      "---  ------                        --------------  -----  \n",
      " 0   URL                           1000 non-null   object \n",
      " 1   ID                            1000 non-null   int64  \n",
      " 2   Name                          1000 non-null   object \n",
      " 3   Subtitle                      304 non-null    object \n",
      " 4   Icon URL                      1000 non-null   object \n",
      " 5   Average User Rating           459 non-null    float64\n",
      " 6   User Rating Count             459 non-null    float64\n",
      " 7   Price                         997 non-null    float64\n",
      " 8   In-app Purchases              445 non-null    object \n",
      " 9   Description                   1000 non-null   object \n",
      " 10  Developer                     1000 non-null   object \n",
      " 11  Age Rating                    1000 non-null   object \n",
      " 12  Languages                     999 non-null    object \n",
      " 13  Size                          1000 non-null   float64\n",
      " 14  Primary Genre                 1000 non-null   object \n",
      " 15  Genres                        1000 non-null   object \n",
      " 16  Original Release Date         1000 non-null   object \n",
      " 17  Current Version Release Date  1000 non-null   object \n",
      "dtypes: float64(4), int64(1), object(13)\n",
      "memory usage: 148.4+ KB\n"
     ]
    }
   ],
   "source": [
    "# and we can also pick a smaller amount of rows to work with (by using head/tail/sample)\n",
    "df_short = df.sample(1000)\n",
    "df_short.info()"
   ]
  },
  {
   "cell_type": "markdown",
   "metadata": {},
   "source": [
    "**Basic Analysis of the Data**"
   ]
  },
  {
   "cell_type": "code",
   "execution_count": 15,
   "metadata": {},
   "outputs": [
    {
     "data": {
      "text/plain": [
       "3306.5312789313584"
      ]
     },
     "execution_count": 15,
     "metadata": {},
     "output_type": "execute_result"
    }
   ],
   "source": [
    "#show the mean/min/max user rating count\n",
    "df[\"User Rating Count\"].mean()"
   ]
  },
  {
   "cell_type": "code",
   "execution_count": 16,
   "metadata": {},
   "outputs": [
    {
     "data": {
      "text/plain": [
       "5.0"
      ]
     },
     "execution_count": 16,
     "metadata": {},
     "output_type": "execute_result"
    }
   ],
   "source": [
    "df[\"User Rating Count\"].min()"
   ]
  },
  {
   "cell_type": "code",
   "execution_count": 17,
   "metadata": {},
   "outputs": [
    {
     "data": {
      "text/plain": [
       "3032734.0"
      ]
     },
     "execution_count": 17,
     "metadata": {},
     "output_type": "execute_result"
    }
   ],
   "source": [
    "df[\"User Rating Count\"].max()"
   ]
  },
  {
   "cell_type": "code",
   "execution_count": 61,
   "metadata": {},
   "outputs": [
    {
     "name": "stdout",
     "output_type": "stream",
     "text": [
      "Mean: 5041.940534925993\n",
      "Minimum: 5.0\n",
      "Maximum: 3032734.0\n"
     ]
    }
   ],
   "source": [
    "#show the mean/min/max user rating count, only on the entries where the avg. rating is larger than 4, and print it nicely\n",
    "print(\"Mean:\",df[df[\"Average User Rating\"]>4][\"User Rating Count\"].mean())\n",
    "print(\"Minimum:\",df[df[\"Average User Rating\"]>4][\"User Rating Count\"].min())\n",
    "print(\"Maximum:\",df[df[\"Average User Rating\"]>4][\"User Rating Count\"].max())"
   ]
  },
  {
   "cell_type": "code",
   "execution_count": 19,
   "metadata": {},
   "outputs": [
    {
     "data": {
      "text/html": [
       "<div>\n",
       "<style scoped>\n",
       "    .dataframe tbody tr th:only-of-type {\n",
       "        vertical-align: middle;\n",
       "    }\n",
       "\n",
       "    .dataframe tbody tr th {\n",
       "        vertical-align: top;\n",
       "    }\n",
       "\n",
       "    .dataframe thead th {\n",
       "        text-align: right;\n",
       "    }\n",
       "</style>\n",
       "<table border=\"1\" class=\"dataframe\">\n",
       "  <thead>\n",
       "    <tr style=\"text-align: right;\">\n",
       "      <th></th>\n",
       "      <th>ID</th>\n",
       "      <th>Average User Rating</th>\n",
       "      <th>User Rating Count</th>\n",
       "      <th>Price</th>\n",
       "      <th>Size</th>\n",
       "    </tr>\n",
       "  </thead>\n",
       "  <tbody>\n",
       "    <tr>\n",
       "      <th>count</th>\n",
       "      <td>1.700700e+04</td>\n",
       "      <td>7561.000000</td>\n",
       "      <td>7.561000e+03</td>\n",
       "      <td>16983.000000</td>\n",
       "      <td>1.700600e+04</td>\n",
       "    </tr>\n",
       "    <tr>\n",
       "      <th>mean</th>\n",
       "      <td>1.059614e+09</td>\n",
       "      <td>4.060905</td>\n",
       "      <td>3.306531e+03</td>\n",
       "      <td>0.813419</td>\n",
       "      <td>1.157064e+08</td>\n",
       "    </tr>\n",
       "    <tr>\n",
       "      <th>std</th>\n",
       "      <td>2.999676e+08</td>\n",
       "      <td>0.751428</td>\n",
       "      <td>4.232256e+04</td>\n",
       "      <td>7.835732</td>\n",
       "      <td>2.036477e+08</td>\n",
       "    </tr>\n",
       "    <tr>\n",
       "      <th>min</th>\n",
       "      <td>2.849214e+08</td>\n",
       "      <td>1.000000</td>\n",
       "      <td>5.000000e+00</td>\n",
       "      <td>0.000000</td>\n",
       "      <td>5.132800e+04</td>\n",
       "    </tr>\n",
       "    <tr>\n",
       "      <th>25%</th>\n",
       "      <td>8.996543e+08</td>\n",
       "      <td>3.500000</td>\n",
       "      <td>1.200000e+01</td>\n",
       "      <td>0.000000</td>\n",
       "      <td>2.295014e+07</td>\n",
       "    </tr>\n",
       "    <tr>\n",
       "      <th>50%</th>\n",
       "      <td>1.112286e+09</td>\n",
       "      <td>4.500000</td>\n",
       "      <td>4.600000e+01</td>\n",
       "      <td>0.000000</td>\n",
       "      <td>5.676895e+07</td>\n",
       "    </tr>\n",
       "    <tr>\n",
       "      <th>75%</th>\n",
       "      <td>1.286983e+09</td>\n",
       "      <td>4.500000</td>\n",
       "      <td>3.090000e+02</td>\n",
       "      <td>0.000000</td>\n",
       "      <td>1.330271e+08</td>\n",
       "    </tr>\n",
       "    <tr>\n",
       "      <th>max</th>\n",
       "      <td>1.475077e+09</td>\n",
       "      <td>5.000000</td>\n",
       "      <td>3.032734e+06</td>\n",
       "      <td>179.990000</td>\n",
       "      <td>4.005591e+09</td>\n",
       "    </tr>\n",
       "  </tbody>\n",
       "</table>\n",
       "</div>"
      ],
      "text/plain": [
       "                 ID  Average User Rating  User Rating Count         Price  \\\n",
       "count  1.700700e+04          7561.000000       7.561000e+03  16983.000000   \n",
       "mean   1.059614e+09             4.060905       3.306531e+03      0.813419   \n",
       "std    2.999676e+08             0.751428       4.232256e+04      7.835732   \n",
       "min    2.849214e+08             1.000000       5.000000e+00      0.000000   \n",
       "25%    8.996543e+08             3.500000       1.200000e+01      0.000000   \n",
       "50%    1.112286e+09             4.500000       4.600000e+01      0.000000   \n",
       "75%    1.286983e+09             4.500000       3.090000e+02      0.000000   \n",
       "max    1.475077e+09             5.000000       3.032734e+06    179.990000   \n",
       "\n",
       "               Size  \n",
       "count  1.700600e+04  \n",
       "mean   1.157064e+08  \n",
       "std    2.036477e+08  \n",
       "min    5.132800e+04  \n",
       "25%    2.295014e+07  \n",
       "50%    5.676895e+07  \n",
       "75%    1.330271e+08  \n",
       "max    4.005591e+09  "
      ]
     },
     "execution_count": 19,
     "metadata": {},
     "output_type": "execute_result"
    }
   ],
   "source": [
    "#Get all Stats on all (numerical) columns as once\n",
    "df.describe()\n",
    "# note that df.describe() output is also a dataframe! check it out yourself with type(df.describe())"
   ]
  },
  {
   "cell_type": "code",
   "execution_count": 20,
   "metadata": {},
   "outputs": [
    {
     "data": {
      "text/plain": [
       "Primary Genre\n",
       "Book                 4.5\n",
       "Business             4.0\n",
       "Education            5.0\n",
       "Entertainment        5.0\n",
       "Finance              4.5\n",
       "Food & Drink         5.0\n",
       "Games                5.0\n",
       "Health & Fitness     4.5\n",
       "Lifestyle            4.5\n",
       "Medical              3.0\n",
       "Music                4.5\n",
       "Navigation           4.0\n",
       "News                 5.0\n",
       "Productivity         5.0\n",
       "Reference            5.0\n",
       "Shopping             4.5\n",
       "Social Networking    5.0\n",
       "Sports               5.0\n",
       "Stickers             4.5\n",
       "Travel               3.5\n",
       "Utilities            5.0\n",
       "Name: Average User Rating, dtype: float64"
      ]
     },
     "execution_count": 20,
     "metadata": {},
     "output_type": "execute_result"
    }
   ],
   "source": [
    "# Calculate Stats per value in column\n",
    "df.groupby(by='Primary Genre')['Average User Rating'].max()"
   ]
  },
  {
   "cell_type": "code",
   "execution_count": 21,
   "metadata": {},
   "outputs": [
    {
     "data": {
      "text/plain": [
       "Games, Strategy, Puzzle                          778\n",
       "Games, Puzzle, Strategy                          694\n",
       "Games, Strategy                                  588\n",
       "Games, Strategy, Action                          483\n",
       "Games, Simulation, Strategy                      465\n",
       "                                                ... \n",
       "Games, Action, Strategy, Utilities                 1\n",
       "Games, Travel, Strategy, Word                      1\n",
       "Games, Finance, Strategy, Puzzle                   1\n",
       "Games, Simulation, Health & Fitness, Strategy      1\n",
       "Sports, Racing, Games, Strategy                    1\n",
       "Name: Genres, Length: 1004, dtype: int64"
      ]
     },
     "execution_count": 21,
     "metadata": {},
     "output_type": "execute_result"
    }
   ],
   "source": [
    "#show all values in a column (of any type!) with amounts  \n",
    "df[\"Genres\"].value_counts()"
   ]
  },
  {
   "cell_type": "code",
   "execution_count": 22,
   "metadata": {},
   "outputs": [
    {
     "data": {
      "text/plain": [
       "4.5    2861\n",
       "4.0    1722\n",
       "5.0     990\n",
       "3.5     925\n",
       "3.0     514\n",
       "2.5     317\n",
       "2.0     158\n",
       "1.5      60\n",
       "1.0      14\n",
       "Name: Average User Rating, dtype: int64"
      ]
     },
     "execution_count": 22,
     "metadata": {},
     "output_type": "execute_result"
    }
   ],
   "source": [
    "df[\"Average User Rating\"].value_counts()"
   ]
  },
  {
   "cell_type": "markdown",
   "metadata": {},
   "source": [
    "**Visualizations - Matplotlib**"
   ]
  },
  {
   "cell_type": "code",
   "execution_count": 92,
   "metadata": {},
   "outputs": [
    {
     "data": {
      "image/png": "[encoded data removed]",
      "text/plain": [
       "<Figure size 432x288 with 1 Axes>"
      ]
     },
     "metadata": {
      "needs_background": "light"
     },
     "output_type": "display_data"
    }
   ],
   "source": [
    "#Plot Histogram of a single column\n",
    "plt.hist(df[\"Average User Rating\"].dropna())\n",
    "plt.ylabel(\"Amount\")\n",
    "plt.xlabel(\"Average User Rating\")\n",
    "plt.show()"
   ]
  },
  {
   "cell_type": "code",
   "execution_count": 98,
   "metadata": {},
   "outputs": [
    {
     "data": {
      "image/png": "[encoded data removed]",
      "text/plain": [
       "<Figure size 432x288 with 1 Axes>"
      ]
     },
     "metadata": {
      "needs_background": "light"
     },
     "output_type": "display_data"
    }
   ],
   "source": [
    "#Plot Scatter Plot \n",
    "plt.scatter(df[\"Price\"],df[\"Size\"], alpha=0.3)\n",
    "plt.ylabel(\"Size\")\n",
    "plt.xlabel(\"Price\")\n",
    "plt.show()"
   ]
  },
  {
   "cell_type": "code",
   "execution_count": 26,
   "metadata": {},
   "outputs": [
    {
     "data": {
      "image/png": "[encoded data removed]",
      "text/plain": [
       "<Figure size 432x288 with 1 Axes>"
      ]
     },
     "metadata": {
      "needs_background": "light"
     },
     "output_type": "display_data"
    }
   ],
   "source": [
    "# See the actual spread and density better using Alpha\n",
    "plt.scatter(df[\"Average User Rating\"],df[\"User Rating Count\"], alpha=0.1)\n",
    "plt.ylabel(\"User Rating Count\")\n",
    "plt.show()"
   ]
  },
  {
   "cell_type": "code",
   "execution_count": 27,
   "metadata": {},
   "outputs": [
    {
     "data": {
      "image/png": "[encoded data removed]",
      "text/plain": [
       "<Figure size 432x288 with 1 Axes>"
      ]
     },
     "metadata": {
      "needs_background": "light"
     },
     "output_type": "display_data"
    }
   ],
   "source": [
    "# plot categorical\n",
    "plt.scatter(df[\"Average User Rating\"],df[\"Primary Genre\"],alpha=0.1)\n",
    "plt.show()"
   ]
  },
  {
   "cell_type": "code",
   "execution_count": 28,
   "metadata": {},
   "outputs": [
    {
     "data": {
      "image/png": "[encoded data removed]",
      "text/plain": [
       "<Figure size 1656x432 with 1 Axes>"
      ]
     },
     "metadata": {
      "needs_background": "light"
     },
     "output_type": "display_data"
    }
   ],
   "source": [
    "df.boxplot(column=\"Average User Rating\", by=\"Primary Genre\",figsize=(23,6))\n",
    "plt.show()"
   ]
  },
  {
   "cell_type": "code",
   "execution_count": 29,
   "metadata": {},
   "outputs": [],
   "source": [
    "#compare two categories\n",
    "df_sports=df[df[\"Primary Genre\"]==\"Sports\"]\n",
    "df_finance=df[df[\"Primary Genre\"]==\"Finance\"]"
   ]
  },
  {
   "cell_type": "code",
   "execution_count": 102,
   "metadata": {},
   "outputs": [
    {
     "data": {
      "image/png": "[encoded data removed]",
      "text/plain": [
       "<Figure size 432x288 with 1 Axes>"
      ]
     },
     "metadata": {
      "needs_background": "light"
     },
     "output_type": "display_data"
    }
   ],
   "source": [
    "plt.hist(df_sports[\"Average User Rating\"],color=\"red\", alpha=0.3,label=\"Sports\")\n",
    "plt.hist(df_finance[\"Average User Rating\"],color=\"blue\", alpha=0.3, label=\"Finance\")\n",
    "plt.legend()\n",
    "plt.ylabel(\"Frequency\")\n",
    "plt.xlabel(\"Average User Rating\")\n",
    "plt.show()"
   ]
  },
  {
   "cell_type": "code",
   "execution_count": 106,
   "metadata": {},
   "outputs": [
    {
     "data": {
      "image/png": "[encoded data removed]",
      "text/plain": [
       "<Figure size 432x288 with 1 Axes>"
      ]
     },
     "metadata": {
      "needs_background": "light"
     },
     "output_type": "display_data"
    }
   ],
   "source": [
    "# What happens is the two groups are very different in size? (change density between True and False)\n",
    "\n",
    "df_games=df[df[\"Primary Genre\"]==\"Games\"]\n",
    "\n",
    "plt.hist(df_sports[\"Average User Rating\"],color=\"red\", alpha=0.3,label=\"Sports\",density=False, range=(1,5))\n",
    "plt.hist(df_games[\"Average User Rating\"],color=\"blue\", alpha=0.3, label=\"Games\",density=False, range=(1,5))\n",
    "plt.legend()\n",
    "plt.ylabel(\"Frequency\")\n",
    "plt.xlabel(\"Average User Rating\")\n",
    "plt.show()"
   ]
  }
 ],
 "metadata": {
  "kernelspec": {
   "display_name": "anaconda-2022.05-py39",
   "language": "python",
   "name": "conda-env-anaconda-2022.05-py39-py"
  },
  "language_info": {
   "codemirror_mode": {
    "name": "ipython",
    "version": 3
   },
   "file_extension": ".py",
   "mimetype": "text/x-python",
   "name": "python",
   "nbconvert_exporter": "python",
   "pygments_lexer": "ipython3",
   "version": "3.9.12"
  }
 },
 "nbformat": 4,
 "nbformat_minor": 4
}
